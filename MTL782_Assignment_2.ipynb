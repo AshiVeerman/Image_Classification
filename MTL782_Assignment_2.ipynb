{
  "cells": [
    {
      "cell_type": "markdown",
      "metadata": {
        "id": "aV5hvYLULOYz"
      },
      "source": [
        "# Data Preprocessing"
      ]
    },
    {
      "cell_type": "code",
      "execution_count": null,
      "metadata": {
        "colab": {
          "base_uri": "https://localhost:8080/"
        },
        "id": "-wN86283AbQb",
        "outputId": "19d76b63-d9c6-41d8-85a1-46f1f9c2f871"
      },
      "outputs": [
        {
          "output_type": "stream",
          "name": "stdout",
          "text": [
            "Sat Apr 13 13:05:36 2024       \n",
            "+---------------------------------------------------------------------------------------+\n",
            "| NVIDIA-SMI 535.104.05             Driver Version: 535.104.05   CUDA Version: 12.2     |\n",
            "|-----------------------------------------+----------------------+----------------------+\n",
            "| GPU  Name                 Persistence-M | Bus-Id        Disp.A | Volatile Uncorr. ECC |\n",
            "| Fan  Temp   Perf          Pwr:Usage/Cap |         Memory-Usage | GPU-Util  Compute M. |\n",
            "|                                         |                      |               MIG M. |\n",
            "|=========================================+======================+======================|\n",
            "|   0  Tesla T4                       Off | 00000000:00:04.0 Off |                    0 |\n",
            "| N/A   48C    P8              10W /  70W |      0MiB / 15360MiB |      0%      Default |\n",
            "|                                         |                      |                  N/A |\n",
            "+-----------------------------------------+----------------------+----------------------+\n",
            "                                                                                         \n",
            "+---------------------------------------------------------------------------------------+\n",
            "| Processes:                                                                            |\n",
            "|  GPU   GI   CI        PID   Type   Process name                            GPU Memory |\n",
            "|        ID   ID                                                             Usage      |\n",
            "|=======================================================================================|\n",
            "|  No running processes found                                                           |\n",
            "+---------------------------------------------------------------------------------------+\n"
          ]
        }
      ],
      "source": [
        "!nvidia-smi"
      ]
    },
    {
      "cell_type": "code",
      "execution_count": null,
      "metadata": {
        "id": "2iinTG1HK6CV"
      },
      "outputs": [],
      "source": [
        "import numpy as np\n",
        "import tensorflow as tf\n",
        "from tensorflow import keras\n",
        "import matplotlib.pyplot as plt\n",
        "from sklearn.datasets import fetch_openml\n",
        "from sklearn.model_selection import train_test_split, cross_val_score, GridSearchCV\n",
        "from sklearn.metrics import accuracy_score, classification_report"
      ]
    },
    {
      "cell_type": "code",
      "execution_count": null,
      "metadata": {
        "colab": {
          "base_uri": "https://localhost:8080/"
        },
        "id": "J2zGGvelAhbu",
        "outputId": "2eb05b2c-82f4-4707-c8de-ca8972ea3f1e"
      },
      "outputs": [
        {
          "output_type": "stream",
          "name": "stdout",
          "text": [
            "Using Tesla T4\n"
          ]
        }
      ],
      "source": [
        "import torch\n",
        "\n",
        "if torch.cuda.is_available():\n",
        "    device = torch.device(\"cuda\")\n",
        "    print(f\"Using {torch.cuda.get_device_name(device)}\")\n",
        "else:\n",
        "    device = torch.device(\"cpu\")\n",
        "    print(\"GPU not available, using CPU\")\n",
        "\n",
        "device = torch.device('cuda' if torch.cuda.is_available() else 'cpu')"
      ]
    },
    {
      "cell_type": "code",
      "execution_count": null,
      "metadata": {
        "colab": {
          "base_uri": "https://localhost:8080/"
        },
        "id": "l6ky8InoLEan",
        "outputId": "dd46d918-e72a-4f15-bec2-5b9aaed02d0a"
      },
      "outputs": [
        {
          "output_type": "stream",
          "name": "stderr",
          "text": [
            "/usr/local/lib/python3.10/dist-packages/sklearn/datasets/_openml.py:968: FutureWarning: The default value of `parser` will change from `'liac-arff'` to `'auto'` in 1.4. You can set `parser='auto'` to silence this warning. Therefore, an `ImportError` will be raised from 1.4 if the dataset is dense and pandas is not installed. Note that the pandas parser may return different data types. See the Notes Section in fetch_openml's API doc for details.\n",
            "  warn(\n"
          ]
        }
      ],
      "source": [
        "# Load MNIST dataset\n",
        "mnist = fetch_openml('mnist_784')\n",
        "X, y = mnist.data, mnist.target.astype(int)\n",
        "\n",
        "# Split dataset into training and testing sets\n",
        "X_train, X_test, y_train, y_test = train_test_split(X, y, test_size=0.2, random_state=42, shuffle=True)"
      ]
    },
    {
      "cell_type": "code",
      "execution_count": null,
      "metadata": {
        "colab": {
          "base_uri": "https://localhost:8080/",
          "height": 862
        },
        "id": "p0QWL11nLE98",
        "outputId": "33cb8d6b-c7c8-4ba8-8a84-807b8f3cb806"
      },
      "outputs": [
        {
          "output_type": "stream",
          "name": "stdout",
          "text": [
            "Downloading data from https://storage.googleapis.com/tensorflow/tf-keras-datasets/mnist.npz\n",
            "11490434/11490434 [==============================] - 0s 0us/step\n"
          ]
        },
        {
          "output_type": "display_data",
          "data": {
            "text/plain": [
              "<Figure size 1000x1000 with 36 Axes>"
            ],
            "image/png": "[encoded data removed]"
          },
          "metadata": {}
        }
      ],
      "source": [
        "#the first 36 images from traing set\n",
        "class_names =['Zero', 'One', 'Two', 'Three', 'Four', 'Five', 'Six', 'Seven', 'Eight', 'Nine']\n",
        "import pandas as pd\n",
        "mnist=keras.datasets.mnist # Loading the dataset\n",
        "(xtrain,ytrain),(xtest,ytest)= mnist.load_data()\n",
        "plt.figure(figsize=(10,10))\n",
        "for i in range(36): # 25 images\n",
        "  plt.subplot(6,6,i+1) # matrix of 5 X 5 array\n",
        "  plt.xticks([])\n",
        "  plt.yticks([])\n",
        "  plt.grid(False)\n",
        "  plt.imshow(xtrain[i], cmap=plt.cm.binary) # printing binary/black and white image\n",
        "  plt.xlabel(\"%s %s\" % (ytrain[i], class_names[ytrain[i]])) # Assigning name to each image\n",
        "plt.show()"
      ]
    },
    {
      "cell_type": "markdown",
      "metadata": {
        "id": "oCkpmaUDMJGn"
      },
      "source": [
        "# Helper Functions"
      ]
    },
    {
      "cell_type": "code",
      "execution_count": null,
      "metadata": {
        "id": "ONcQY7hEMTX7"
      },
      "outputs": [],
      "source": [
        "import pandas as pd\n",
        "from sklearn.model_selection import KFold, RandomizedSearchCV\n",
        "from sklearn.metrics import log_loss\n",
        "from sklearn.metrics import f1_score\n",
        "from sklearn.metrics import precision_score\n",
        "from sklearn.metrics import recall_score\n",
        "from scipy.stats import uniform\n",
        "\n",
        "X_train = pd.DataFrame(X_train)\n",
        "y_train = pd.DataFrame(y_train)"
      ]
    },
    {
      "cell_type": "code",
      "execution_count": null,
      "metadata": {
        "id": "rok-k-pEMXAZ"
      },
      "outputs": [],
      "source": [
        "def evaluate_model_gd(X_train, y_train, X_test, y_test, model, params, k=5):\n",
        "  \"\"\"\n",
        "  model: the classification model being implemented here\n",
        "  params: the matrix consisting of parameters to be tested for hyperparameter tuning\n",
        "  k: the no. of folds for cross validation (default value = 5)\n",
        "  \"\"\"\n",
        "  kf = KFold(n_splits=k, random_state=None)\n",
        "\n",
        "  acc_score_v = []\n",
        "  f1_score_v = []\n",
        "  prec_v = []\n",
        "  log_loss_v = []\n",
        "  recall_v = []\n",
        "\n",
        "  # make separate lists for other evaluation metrics here\n",
        "  print('tuning started: GridSearchCV')\n",
        "  grid_search = GridSearchCV(estimator= model, param_grid=params, scoring='accuracy', cv=k)\n",
        "  grid_search.fit(X_train, y_train)\n",
        "  print('found best model through exhaustive search!')\n",
        "  model = grid_search.best_estimator_\n",
        "  y_pred = model.predict(X_test)\n",
        "  df = pd.DataFrame(grid_search.cv_results_)\n",
        "  print(df[['params','mean_test_score']])\n",
        "  acc = accuracy_score(y_pred , y_test)\n",
        "  f1 = f1_score(y_pred , y_test, average='macro')\n",
        "  precision = precision_score(y_pred , y_test, average='macro')\n",
        "  #log = log_loss(pred_values2 , y_test_v, labels=[0, 1, 2, 3, 4, 5, 6, 7, 8, 9])\n",
        "  rec = recall_score(y_pred , y_test, average='macro')\n",
        "\n",
        "  print(f'The best accuracy is achieved with hyperparameters: {grid_search.best_params_}')\n",
        "  print('Testing accuracy : {}'.format(acc))\n",
        "  print('Testing f1 score : {}'.format(f1))\n",
        "  print('Testing precision : {}'.format(precision))\n",
        "  print('Testing recall score : {}'.format(rec))\n",
        "  #print('Testing log loss : {}'.format(log))\n",
        "\n"
      ]
    },
    {
      "cell_type": "code",
      "execution_count": null,
      "metadata": {
        "id": "Vdrud4K_bzxn"
      },
      "outputs": [],
      "source": [
        "def evaluate_model_rd(X_train, y_train, X_test, y_test, model, params, k=5):\n",
        "  \"\"\"\n",
        "  model: the classification model being implemented here\n",
        "  params: the matrix consisting of parameters to be tested for hyperparameter tuning\n",
        "  k: the no. of folds for cross validation (default value = 5)\n",
        "  \"\"\"\n",
        "  kf = KFold(n_splits=k, random_state=None)\n",
        "\n",
        "  # make separate lists for other evaluation metrics here\n",
        "  print('tuning started: RandomizedSearchCV')\n",
        "  clf = RandomizedSearchCV(estimator=model, param_distributions=params, scoring='accuracy', random_state=0, cv=k)\n",
        "  search = clf.fit(X_train, y_train)\n",
        "  print('found best model through parameter search!')\n",
        "  model = search.best_estimator_\n",
        "\n",
        "  y_pred = model.predict(X_test)\n",
        "  df = pd.DataFrame(search.cv_results_)\n",
        "  print(df[['params','mean_test_score']])\n",
        "  acc = accuracy_score(y_pred , y_test)\n",
        "  f1 = f1_score(y_pred , y_test, average='macro')\n",
        "  precision = precision_score(y_pred , y_test, average='macro')\n",
        "  #log = log_loss(pred_values2 , y_test_v, labels=[0, 1, 2, 3, 4, 5, 6, 7, 8, 9])\n",
        "  rec = recall_score(y_pred , y_test, average='macro')\n",
        "  print(f'The best accuracy is achieved with hyperparameters: {search.best_params_}')\n",
        "  print('Testing accuracy : {}'.format(acc))\n",
        "  print('Testing f1 score : {}'.format(f1))\n",
        "  print('Testing precision : {}'.format(precision))\n",
        "  print('Testing recall score : {}'.format(rec))\n",
        "  #print('Testing log loss : {}'.format(log))\n"
      ]
    },
    {
      "cell_type": "code",
      "execution_count": null,
      "metadata": {
        "id": "W75KFAxrcb7U"
      },
      "outputs": [],
      "source": [
        "def evaluate_model_cv(X_train, y_train, X_test, y_test, model, params, k=5):\n",
        "  print('starting cross_val')\n",
        "  kf = KFold(n_splits=k, random_state=None)\n",
        "\n",
        "  acc_score_v = []\n",
        "  f1_score_v = []\n",
        "  prec_v = []\n",
        "  log_loss_v = []\n",
        "  recall_v = []\n",
        "  for train_index , test_index in kf.split(X_train):\n",
        "      X_train_v , X_test_v = X_train.iloc[train_index,:],X_train.iloc[test_index,:]\n",
        "      y_train_v , y_test_v = y_train[train_index] , y_train[test_index]\n",
        "      model.fit(X_train_v,y_train_v)\n",
        "      pred_values = model.predict(X_test_v)\n",
        "\n",
        "      acc_v = accuracy_score(pred_values , y_test_v)\n",
        "      f1_v = f1_score(pred_values , y_test_v, average='macro')\n",
        "      precision_v = precision_score(pred_values , y_test_v, average='macro')\n",
        "      #log_v = log_loss(pred_values , y_test_v, labels=[0, 1, 2, 3, 4, 5, 6, 7, 8, 9])\n",
        "      rec_v = recall_score(pred_values , y_test_v, average='macro')\n",
        "\n",
        "      # add any other evaluation metric here\n",
        "      acc_score_v.append(acc_v)\n",
        "      f1_score_v.append(f1_v)\n",
        "      prec_v.append(precision_v)\n",
        "      #log_loss_v.append(log_v)\n",
        "      recall_v.append(rec_v)\n",
        "\n",
        "  print('cross_val ended')\n",
        "\n",
        "  avg_val_acc_score = sum(acc_score_v)/k\n",
        "  avg_f1_score_v = sum(f1_score_v)/k\n",
        "  avg_prec_v = sum(prec_v)/k\n",
        "  #avg_log_loss_v = sum(log_loss_v)/k\n",
        "  avg_recall_v = sum(recall_v)/k\n",
        "\n",
        "  pred_values2 = model.predict(X_test)\n",
        "\n",
        "  acc = accuracy_score(pred_values2 , y_test)\n",
        "  f1 = f1_score(pred_values2 , y_test, average='macro')\n",
        "  precision = precision_score(pred_values2 , y_test, average='macro')\n",
        "  #log = log_loss(pred_values2 , y_test_v, labels=[0, 1, 2, 3, 4, 5, 6, 7, 8, 9])\n",
        "  rec = recall_score(pred_values2 , y_test, average='macro')\n",
        "\n",
        "  #print('validation accuracy of each fold - {}'.format(acc_score))\n",
        "  print('Avg validation accuracy : {}'.format(avg_val_acc_score))\n",
        "  print('Avg validation f1 score : {}'.format(avg_f1_score_v))\n",
        "  print('Avg validation precision score : {}'.format(avg_prec_v))\n",
        "  print('Avg validation recall score : {}'.format(avg_recall_v))\n",
        "  #print('Avg validation  : {}'.format(avg_f1_score_v))\n",
        "\n",
        "  print('Testing accuracy : {}'.format(acc))\n",
        "  print('Testing f1 score : {}'.format(f1))\n",
        "  print('Testing precision : {}'.format(precision))\n",
        "  print('Testing recall score : {}'.format(rec))\n",
        "  #print('Testing log loss : {}'.format(log))\n"
      ]
    },
    {
      "cell_type": "markdown",
      "metadata": {
        "id": "uYbMrjTiLKQd"
      },
      "source": [
        "# Decision Tree"
      ]
    },
    {
      "cell_type": "code",
      "execution_count": null,
      "metadata": {
        "colab": {
          "base_uri": "https://localhost:8080/"
        },
        "id": "UzGixwbuLJnV",
        "outputId": "fe7137cc-837d-4cdb-a60f-bfa06a16554f"
      },
      "outputs": [
        {
          "name": "stdout",
          "output_type": "stream",
          "text": [
            "tuning started: GridSearchCV\n",
            "found best model through exhaustive search!\n",
            "                                               params  mean_test_score\n",
            "0   {'max_depth': 5, 'min_samples_leaf': 1, 'min_s...         0.660250\n",
            "1   {'max_depth': 5, 'min_samples_leaf': 1, 'min_s...         0.660250\n",
            "2   {'max_depth': 5, 'min_samples_leaf': 1, 'min_s...         0.660250\n",
            "3   {'max_depth': 5, 'min_samples_leaf': 2, 'min_s...         0.660250\n",
            "4   {'max_depth': 5, 'min_samples_leaf': 2, 'min_s...         0.660250\n",
            "5   {'max_depth': 5, 'min_samples_leaf': 2, 'min_s...         0.660250\n",
            "6   {'max_depth': 5, 'min_samples_leaf': 4, 'min_s...         0.660250\n",
            "7   {'max_depth': 5, 'min_samples_leaf': 4, 'min_s...         0.660250\n",
            "8   {'max_depth': 5, 'min_samples_leaf': 4, 'min_s...         0.660250\n",
            "9   {'max_depth': 10, 'min_samples_leaf': 1, 'min_...         0.852036\n",
            "10  {'max_depth': 10, 'min_samples_leaf': 1, 'min_...         0.850911\n",
            "11  {'max_depth': 10, 'min_samples_leaf': 1, 'min_...         0.850964\n",
            "12  {'max_depth': 10, 'min_samples_leaf': 2, 'min_...         0.850696\n",
            "13  {'max_depth': 10, 'min_samples_leaf': 2, 'min_...         0.850464\n",
            "14  {'max_depth': 10, 'min_samples_leaf': 2, 'min_...         0.850982\n",
            "15  {'max_depth': 10, 'min_samples_leaf': 4, 'min_...         0.851625\n",
            "16  {'max_depth': 10, 'min_samples_leaf': 4, 'min_...         0.851625\n",
            "17  {'max_depth': 10, 'min_samples_leaf': 4, 'min_...         0.850982\n",
            "18  {'max_depth': 15, 'min_samples_leaf': 1, 'min_...         0.867875\n",
            "19  {'max_depth': 15, 'min_samples_leaf': 1, 'min_...         0.866571\n",
            "20  {'max_depth': 15, 'min_samples_leaf': 1, 'min_...         0.865286\n",
            "21  {'max_depth': 15, 'min_samples_leaf': 2, 'min_...         0.865214\n",
            "22  {'max_depth': 15, 'min_samples_leaf': 2, 'min_...         0.865268\n",
            "23  {'max_depth': 15, 'min_samples_leaf': 2, 'min_...         0.864946\n",
            "24  {'max_depth': 15, 'min_samples_leaf': 4, 'min_...         0.866071\n",
            "25  {'max_depth': 15, 'min_samples_leaf': 4, 'min_...         0.866071\n",
            "26  {'max_depth': 15, 'min_samples_leaf': 4, 'min_...         0.866429\n",
            "The best accuracy is achieved with hyperparameters: {'max_depth': 15, 'min_samples_leaf': 1, 'min_samples_split': 2}\n",
            "Testing accuracy : 0.8742142857142857\n",
            "Testing f1 score : 0.8723324539185627\n",
            "Testing precision : 0.8724218877529466\n",
            "Testing recall score : 0.8723655423038871\n",
            "\n",
            "tuning started: RandomizedSearchCV\n",
            "found best model through parameter search!\n",
            "                                              params  mean_test_score\n",
            "0  {'min_samples_split': 8, 'min_samples_leaf': 2...         0.836250\n",
            "1  {'min_samples_split': 10, 'min_samples_leaf': ...         0.865143\n",
            "2  {'min_samples_split': 2, 'min_samples_leaf': 4...         0.865661\n",
            "3  {'min_samples_split': 8, 'min_samples_leaf': 2...         0.660250\n",
            "4  {'min_samples_split': 6, 'min_samples_leaf': 4...         0.865661\n",
            "5  {'min_samples_split': 6, 'min_samples_leaf': 1...         0.771036\n",
            "6  {'min_samples_split': 6, 'min_samples_leaf': 2...         0.660250\n",
            "7  {'min_samples_split': 2, 'min_samples_leaf': 3...         0.660250\n",
            "8  {'min_samples_split': 2, 'min_samples_leaf': 2...         0.836286\n",
            "9  {'min_samples_split': 10, 'min_samples_leaf': ...         0.865232\n",
            "The best accuracy is achieved with hyperparameters: {'min_samples_split': 2, 'min_samples_leaf': 4, 'max_depth': 13}\n",
            "Testing accuracy : 0.8733571428571428\n",
            "Testing f1 score : 0.8712980566312092\n",
            "Testing precision : 0.8714382046279561\n",
            "Testing recall score : 0.8713556534778736\n",
            "\n",
            "starting cross_val\n",
            "cross_val ended\n",
            "Avg validation accuracy : 0.8654107142857143\n",
            "Avg validation f1 score : 0.8636310005561144\n",
            "Avg validation precision score : 0.8636904910081803\n",
            "Avg validation recall score : 0.8636746500664308\n",
            "Testing accuracy : 0.8637857142857143\n",
            "Testing f1 score : 0.8616281770344042\n",
            "Testing precision : 0.861787961094846\n",
            "Testing recall score : 0.8616175390660874\n"
          ]
        }
      ],
      "source": [
        "from sklearn.tree import DecisionTreeClassifier\n",
        "from scipy.stats import uniform\n",
        "params = {\n",
        "    'max_depth': [5, 10, 15],\n",
        "    'min_samples_split': [2, 5, 10],\n",
        "    'min_samples_leaf': [1, 2, 4]\n",
        "}\n",
        "\n",
        "params2 = {\n",
        "    'max_depth': [5, 7, 9, 11, 13, 15],\n",
        "    'min_samples_split': [2, 4, 6, 8, 10],\n",
        "    'min_samples_leaf': [1, 2, 3, 4]\n",
        "}\n",
        "\n",
        "y_train=y_train.values.flatten()\n",
        "y_test=y_test.values.flatten()\n",
        "model = DecisionTreeClassifier(random_state=42)\n",
        "evaluate_model_gd(X_train, y_train, X_test, y_test, model, params, 5)\n",
        "print()\n",
        "evaluate_model_rd(X_train, y_train, X_test, y_test, model, params2, 5)\n",
        "print()\n",
        "evaluate_model_cv(X_train, y_train, X_test, y_test, model, params2, 5)\n"
      ]
    },
    {
      "cell_type": "markdown",
      "metadata": {
        "id": "tqdy5cR-084k"
      },
      "source": [
        "# Random Forest"
      ]
    },
    {
      "cell_type": "code",
      "execution_count": null,
      "metadata": {
        "colab": {
          "base_uri": "https://localhost:8080/"
        },
        "id": "L5Z_hIwh1HKq",
        "outputId": "23fd1d6a-8d3e-4b33-d4f4-d7617912c283"
      },
      "outputs": [
        {
          "name": "stdout",
          "output_type": "stream",
          "text": [
            "tuning started: GridSearchCV\n",
            "found best model through exhaustive search!\n",
            "                                   params  mean_test_score\n",
            "0    {'max_depth': 5, 'n_estimators': 30}         0.845357\n",
            "1    {'max_depth': 5, 'n_estimators': 35}         0.847214\n",
            "2    {'max_depth': 5, 'n_estimators': 40}         0.850464\n",
            "3    {'max_depth': 5, 'n_estimators': 45}         0.852196\n",
            "4    {'max_depth': 5, 'n_estimators': 50}         0.852107\n",
            "5    {'max_depth': 5, 'n_estimators': 55}         0.852571\n",
            "6    {'max_depth': 5, 'n_estimators': 60}         0.854250\n",
            "7    {'max_depth': 7, 'n_estimators': 30}         0.900696\n",
            "8    {'max_depth': 7, 'n_estimators': 35}         0.903143\n",
            "9    {'max_depth': 7, 'n_estimators': 40}         0.904339\n",
            "10   {'max_depth': 7, 'n_estimators': 45}         0.906125\n",
            "11   {'max_depth': 7, 'n_estimators': 50}         0.906232\n",
            "12   {'max_depth': 7, 'n_estimators': 55}         0.907429\n",
            "13   {'max_depth': 7, 'n_estimators': 60}         0.907411\n",
            "14  {'max_depth': 10, 'n_estimators': 30}         0.940250\n",
            "15  {'max_depth': 10, 'n_estimators': 35}         0.941500\n",
            "16  {'max_depth': 10, 'n_estimators': 40}         0.942143\n",
            "17  {'max_depth': 10, 'n_estimators': 45}         0.942714\n",
            "18  {'max_depth': 10, 'n_estimators': 50}         0.943250\n",
            "19  {'max_depth': 10, 'n_estimators': 55}         0.943429\n",
            "20  {'max_depth': 10, 'n_estimators': 60}         0.943536\n",
            "21  {'max_depth': 13, 'n_estimators': 30}         0.955571\n",
            "22  {'max_depth': 13, 'n_estimators': 35}         0.956661\n",
            "23  {'max_depth': 13, 'n_estimators': 40}         0.957500\n",
            "24  {'max_depth': 13, 'n_estimators': 45}         0.958036\n",
            "25  {'max_depth': 13, 'n_estimators': 50}         0.958161\n",
            "26  {'max_depth': 13, 'n_estimators': 55}         0.959161\n",
            "27  {'max_depth': 13, 'n_estimators': 60}         0.959357\n",
            "28  {'max_depth': 15, 'n_estimators': 30}         0.958161\n",
            "29  {'max_depth': 15, 'n_estimators': 35}         0.959036\n",
            "30  {'max_depth': 15, 'n_estimators': 40}         0.960161\n",
            "31  {'max_depth': 15, 'n_estimators': 45}         0.960768\n",
            "32  {'max_depth': 15, 'n_estimators': 50}         0.960982\n",
            "33  {'max_depth': 15, 'n_estimators': 55}         0.961982\n",
            "34  {'max_depth': 15, 'n_estimators': 60}         0.962304\n",
            "The best accuracy is achieved with hyperparameters: {'max_depth': 15, 'n_estimators': 60}\n",
            "Testing accuracy : 0.9623571428571429\n",
            "Testing f1 score : 0.962129774997831\n",
            "Testing precision : 0.9620223601311245\n",
            "Testing recall score : 0.9622966512307602\n",
            "tuning started: RandomizedSearchCV\n",
            "found best model through parameter search!\n",
            "                                  params  mean_test_score\n",
            "0  {'n_estimators': 35, 'max_depth': 13}         0.956661\n",
            "1   {'n_estimators': 60, 'max_depth': 9}         0.934554\n",
            "2   {'n_estimators': 65, 'max_depth': 9}         0.935268\n",
            "3  {'n_estimators': 30, 'max_depth': 15}         0.958161\n",
            "4  {'n_estimators': 70, 'max_depth': 15}         0.962696\n",
            "5   {'n_estimators': 75, 'max_depth': 9}         0.935411\n",
            "6  {'n_estimators': 65, 'max_depth': 13}         0.959589\n",
            "7  {'n_estimators': 40, 'max_depth': 13}         0.957500\n",
            "8  {'n_estimators': 35, 'max_depth': 11}         0.948250\n",
            "9   {'n_estimators': 50, 'max_depth': 5}         0.852107\n",
            "The best accuracy is achieved with hyperparameters: {'n_estimators': 70, 'max_depth': 15}\n",
            "Testing accuracy : 0.9625714285714285\n",
            "Testing f1 score : 0.9623623037124837\n",
            "Testing precision : 0.9622202887872872\n",
            "Testing recall score : 0.9625598639989464\n",
            "starting cross_val\n",
            "cross_val ended\n",
            "Avg validation accuracy : 0.9668928571428571\n",
            "Avg validation f1 score : 0.9665920613265022\n",
            "Avg validation precision score : 0.9665648350520704\n",
            "Avg validation recall score : 0.9666656252408868\n",
            "Testing accuracy : 0.9646428571428571\n",
            "Testing f1 score : 0.9644802292230386\n",
            "Testing precision : 0.964402858629791\n",
            "Testing recall score : 0.9645911394280974\n"
          ]
        }
      ],
      "source": [
        "#RandomForestClassifier\n",
        "from sklearn.ensemble import RandomForestClassifier\n",
        "params3 = {\n",
        "    'max_depth': [5, 7, 10, 13, 15],\n",
        "    'n_estimators': [30, 35, 40, 45, 50, 55, 60]\n",
        "}\n",
        "\n",
        "params4 = {\n",
        "    'max_depth': [5, 7, 9, 11, 13, 15],\n",
        "    'n_estimators': [30, 35, 40, 45, 50, 55, 60, 65, 70, 75, 80]\n",
        "}\n",
        "model = RandomForestClassifier(random_state=42)\n",
        "evaluate_model_gd(X_train, y_train, X_test, y_test, model, params3, 5)\n",
        "evaluate_model_rd(X_train, y_train, X_test, y_test, model, params4, 5)\n",
        "evaluate_model_cv(X_train, y_train, X_test, y_test, model, params4, 5)"
      ]
    },
    {
      "cell_type": "markdown",
      "metadata": {
        "id": "awFsfVw7Gew-"
      },
      "source": [
        "# Naive Bayes"
      ]
    },
    {
      "cell_type": "code",
      "execution_count": null,
      "metadata": {
        "colab": {
          "base_uri": "https://localhost:8080/"
        },
        "id": "dCaqOG9hGkYs",
        "outputId": "bfa3dc1e-3993-49c0-f161-58f649350f36"
      },
      "outputs": [
        {
          "name": "stdout",
          "output_type": "stream",
          "text": [
            "tuning started: GridSearchCV\n",
            "found best model through exhaustive search!\n",
            "                                       params  mean_test_score\n",
            "0                      {'var_smoothing': 1.0}         0.732089\n",
            "1       {'var_smoothing': 0.8111308307896871}         0.742518\n",
            "2        {'var_smoothing': 0.657933224657568}         0.753018\n",
            "3        {'var_smoothing': 0.533669923120631}         0.762232\n",
            "4       {'var_smoothing': 0.4328761281083058}         0.770857\n",
            "..                                        ...              ...\n",
            "95  {'var_smoothing': 2.3101297000831578e-09}         0.554107\n",
            "96   {'var_smoothing': 1.873817422860387e-09}         0.552911\n",
            "97   {'var_smoothing': 1.519911082952933e-09}         0.551589\n",
            "98  {'var_smoothing': 1.2328467394420633e-09}         0.550232\n",
            "99   {'var_smoothing': 9.999999999999999e-10}         0.548946\n",
            "\n",
            "[100 rows x 2 columns]\n",
            "The best accuracy is achieved with hyperparameters: {'var_smoothing': 0.06579332246575678}\n",
            "Testing accuracy : 0.8055\n",
            "Testing f1 score : 0.8036215602619391\n",
            "Testing precision : 0.8006148278670201\n",
            "Testing recall score : 0.822308122352797\n",
            "tuning started: RandomizedSearchCV\n",
            "found best model through parameter search!\n",
            "                                      params  mean_test_score\n",
            "0    {'var_smoothing': 0.004328761281083057}         0.761464\n",
            "1   {'var_smoothing': 1.519911082952933e-08}         0.566768\n",
            "2       {'var_smoothing': 0.657933224657568}         0.753018\n",
            "3   {'var_smoothing': 9.999999999999999e-06}         0.637429\n",
            "4   {'var_smoothing': 1.519911082952933e-07}         0.586482\n",
            "5  {'var_smoothing': 3.5111917342151273e-09}         0.556768\n",
            "6    {'var_smoothing': 0.035111917342151314}         0.797839\n",
            "7  {'var_smoothing': 2.3101297000831583e-07}         0.590768\n",
            "8  {'var_smoothing': 1.2328467394420658e-05}         0.641054\n",
            "9  {'var_smoothing': 2.3101297000831578e-09}         0.554107\n",
            "The best accuracy is achieved with hyperparameters: {'var_smoothing': 0.035111917342151314}\n",
            "Testing accuracy : 0.8007142857142857\n",
            "Testing f1 score : 0.7982823843037345\n",
            "Testing precision : 0.7957605648282253\n",
            "Testing recall score : 0.8171655400285476\n",
            "starting cross_val\n",
            "cross_val ended\n",
            "Avg validation accuracy : 0.5493571428571429\n",
            "Avg validation f1 score : 0.49456996199446673\n",
            "Avg validation precision score : 0.5417040254703325\n",
            "Avg validation recall score : 0.6629016203222802\n",
            "Testing accuracy : 0.5505\n",
            "Testing f1 score : 0.49235479061534093\n",
            "Testing precision : 0.5402518100219911\n",
            "Testing recall score : 0.6618619069951903\n"
          ]
        }
      ],
      "source": [
        "#Naive Bayes Classifier\n",
        "from sklearn.naive_bayes import GaussianNB\n",
        "params5 = {\n",
        "    'var_smoothing': np.logspace(0,-9, num=100)\n",
        "}\n",
        "\n",
        "model = GaussianNB()\n",
        "evaluate_model_gd(X_train, y_train, X_test, y_test, model, params5, 5)\n",
        "evaluate_model_rd(X_train, y_train, X_test, y_test, model, params5, 5)\n",
        "evaluate_model_cv(X_train, y_train, X_test, y_test, model, params5, 5)"
      ]
    },
    {
      "cell_type": "markdown",
      "metadata": {
        "id": "MuyQfu06I7wx"
      },
      "source": [
        "# KNN Classifier"
      ]
    },
    {
      "cell_type": "code",
      "execution_count": null,
      "metadata": {
        "colab": {
          "base_uri": "https://localhost:8080/"
        },
        "id": "FojG-d93JAIk",
        "outputId": "384f5bd6-90ce-4b5e-e167-ae653c28bfe3"
      },
      "outputs": [
        {
          "name": "stdout",
          "output_type": "stream",
          "text": [
            "tuning started: GridSearchCV\n",
            "found best model through exhaustive search!\n",
            "                params  mean_test_score\n",
            "0   {'n_neighbors': 1}         0.969875\n",
            "1   {'n_neighbors': 2}         0.963339\n",
            "2   {'n_neighbors': 3}         0.970054\n",
            "3   {'n_neighbors': 4}         0.968375\n",
            "4   {'n_neighbors': 5}         0.968768\n",
            "5   {'n_neighbors': 6}         0.968000\n",
            "6   {'n_neighbors': 7}         0.967929\n",
            "7   {'n_neighbors': 8}         0.966625\n",
            "8   {'n_neighbors': 9}         0.966411\n",
            "9  {'n_neighbors': 10}         0.965732\n",
            "The best accuracy is achieved with hyperparameters: {'n_neighbors': 3}\n",
            "Testing accuracy : 0.9712857142857143\n",
            "Testing f1 score : 0.9711991586660975\n",
            "Testing precision : 0.9708657044620269\n",
            "Testing recall score : 0.9717774214531696\n",
            "tuning started: RandomizedSearchCV\n",
            "found best model through parameter search!\n",
            "                params  mean_test_score\n",
            "0   {'n_neighbors': 1}         0.969875\n",
            "1   {'n_neighbors': 2}         0.963339\n",
            "2   {'n_neighbors': 3}         0.970054\n",
            "3   {'n_neighbors': 4}         0.968375\n",
            "4   {'n_neighbors': 5}         0.968768\n",
            "5   {'n_neighbors': 6}         0.968000\n",
            "6   {'n_neighbors': 7}         0.967929\n",
            "7   {'n_neighbors': 8}         0.966625\n",
            "8   {'n_neighbors': 9}         0.966411\n",
            "9  {'n_neighbors': 10}         0.965732\n",
            "The best accuracy is achieved with hyperparameters: {'n_neighbors': 3}\n",
            "Testing accuracy : 0.9712857142857143\n",
            "Testing f1 score : 0.9711991586660975\n",
            "Testing precision : 0.9708657044620269\n",
            "Testing recall score : 0.9717774214531696\n",
            "starting cross_val\n",
            "cross_val ended\n",
            "Avg validation accuracy : 0.9689285714285715\n",
            "Avg validation f1 score : 0.9687448022913541\n",
            "Avg validation precision score : 0.9684867875142242\n",
            "Avg validation recall score : 0.9693711524645933\n",
            "Testing accuracy : 0.9680714285714286\n",
            "Testing f1 score : 0.968045325787001\n",
            "Testing precision : 0.9675849064511048\n",
            "Testing recall score : 0.9688307587274734\n"
          ]
        }
      ],
      "source": [
        "from sklearn.neighbors import KNeighborsClassifier\n",
        "model = KNeighborsClassifier()\n",
        "params5 = {\n",
        "    'n_neighbors':[1,2,3,4,5,6,7,8,9,10]\n",
        "}\n",
        "evaluate_model_gd(X_train, y_train, X_test, y_test, model, params5, 5)\n",
        "evaluate_model_rd(X_train, y_train, X_test, y_test, model, params5, 5)\n",
        "evaluate_model_cv(X_train, y_train, X_test, y_test, model, params5, 5)"
      ]
    },
    {
      "cell_type": "markdown",
      "metadata": {
        "id": "-5YLaL5aU8Gi"
      },
      "source": [
        "# Neural Network Classifier"
      ]
    },
    {
      "cell_type": "code",
      "execution_count": null,
      "metadata": {
        "colab": {
          "base_uri": "https://localhost:8080/"
        },
        "id": "mw-JD2pWVH7F",
        "outputId": "4d01574a-4f7a-416e-b770-7d0cb4c6e654"
      },
      "outputs": [
        {
          "output_type": "stream",
          "name": "stdout",
          "text": [
            "tuning started: GridSearchCV\n",
            "found best model through exhaustive search!\n",
            "                                               params  mean_test_score\n",
            "0    {'activation': 'tanh', 'hidden_layer_sizes': 10}         0.883321\n",
            "1    {'activation': 'tanh', 'hidden_layer_sizes': 30}         0.919911\n",
            "2    {'activation': 'tanh', 'hidden_layer_sizes': 40}         0.927446\n",
            "3    {'activation': 'tanh', 'hidden_layer_sizes': 50}         0.932304\n",
            "4    {'activation': 'tanh', 'hidden_layer_sizes': 70}         0.937393\n",
            "5   {'activation': 'tanh', 'hidden_layer_sizes': 100}         0.935679\n",
            "6    {'activation': 'relu', 'hidden_layer_sizes': 10}         0.901071\n",
            "7    {'activation': 'relu', 'hidden_layer_sizes': 30}         0.933232\n",
            "8    {'activation': 'relu', 'hidden_layer_sizes': 40}         0.939179\n",
            "9    {'activation': 'relu', 'hidden_layer_sizes': 50}         0.949446\n",
            "10   {'activation': 'relu', 'hidden_layer_sizes': 70}         0.959232\n",
            "11  {'activation': 'relu', 'hidden_layer_sizes': 100}         0.961500\n",
            "The best accuracy is achieved with hyperparameters: {'activation': 'relu', 'hidden_layer_sizes': 100}\n",
            "Testing accuracy : 0.9638571428571429\n",
            "Testing f1 score : 0.9635230330617182\n",
            "Testing precision : 0.9634759904998751\n",
            "Testing recall score : 0.9636538537791282\n",
            "tuning started: RandomizedSearchCV\n",
            "found best model through parameter search!\n",
            "                                              params  mean_test_score\n",
            "0   {'hidden_layer_sizes': 10, 'activation': 'relu'}         0.901071\n",
            "1  {'hidden_layer_sizes': 100, 'activation': 'relu'}         0.961500\n",
            "2   {'hidden_layer_sizes': 70, 'activation': 'tanh'}         0.937393\n",
            "3   {'hidden_layer_sizes': 70, 'activation': 'relu'}         0.959232\n",
            "4   {'hidden_layer_sizes': 40, 'activation': 'tanh'}         0.927446\n",
            "5   {'hidden_layer_sizes': 40, 'activation': 'relu'}         0.939179\n",
            "6   {'hidden_layer_sizes': 30, 'activation': 'tanh'}         0.919911\n",
            "7   {'hidden_layer_sizes': 30, 'activation': 'relu'}         0.933232\n",
            "8   {'hidden_layer_sizes': 50, 'activation': 'relu'}         0.949446\n",
            "9   {'hidden_layer_sizes': 50, 'activation': 'tanh'}         0.932304\n",
            "The best accuracy is achieved with hyperparameters: {'hidden_layer_sizes': 100, 'activation': 'relu'}\n",
            "Testing accuracy : 0.9638571428571429\n",
            "Testing f1 score : 0.9635230330617182\n",
            "Testing precision : 0.9634759904998751\n",
            "Testing recall score : 0.9636538537791282\n",
            "starting cross_val\n"
          ]
        }
      ],
      "source": [
        "from sklearn.neural_network import MLPClassifier\n",
        "model = MLPClassifier(random_state=42, max_iter=1000)\n",
        "params6={\n",
        "    'hidden_layer_sizes': [10, 30, 40, 50, 70, 100],\n",
        "    'activation': ['tanh', 'relu']\n",
        "}\n",
        "\n",
        "y_train=y_train.values.flatten()\n",
        "y_test=y_test.values.flatten()\n",
        "#evaluate_model_gd(X_train, y_train, X_test, y_test, model, params6, 5)\n",
        "#evaluate_model_rd(X_train, y_train, X_test, y_test, model, params6, 5)\n",
        "evaluate_model_cv(X_train, y_train, X_test, y_test, model, params6, 5)"
      ]
    }
  ],
  "metadata": {
    "colab": {
      "provenance": [],
      "gpuType": "T4"
    },
    "kernelspec": {
      "display_name": "Python 3",
      "name": "python3"
    },
    "language_info": {
      "name": "python"
    },
    "accelerator": "GPU"
  },
  "nbformat": 4,
  "nbformat_minor": 0
}